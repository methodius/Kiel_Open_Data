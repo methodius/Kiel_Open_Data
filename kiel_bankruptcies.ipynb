{
 "cells": [
  {
   "cell_type": "markdown",
   "metadata": {},
   "source": [
    "# Bankruptcies in Kiel"
   ]
  },
  {
   "cell_type": "code",
   "execution_count": 1,
   "metadata": {},
   "outputs": [],
   "source": [
    "import io\n",
    "import requests\n",
    "import pandas as pd\n",
    "import numpy as np\n",
    "import matplotlib.pyplot as plt\n",
    "\n",
    "CSV_URL = 'https://www.kiel.de/opendata/kiel_wirtschaft_arbeit_unternehmensinsolvenzen.csv'"
   ]
  },
  {
   "cell_type": "code",
   "execution_count": 2,
   "metadata": {},
   "outputs": [
    {
     "name": "stdout",
     "output_type": "stream",
     "text": [
      "    Land Stadt          Kategorie                  Merkmal  Jahr  Insolvenzen\n",
      "0  de-sh  Kiel  wirtschaft_arbeit  Unternehmensinsolvenzen  1987           76\n",
      "1  de-sh  Kiel  wirtschaft_arbeit  Unternehmensinsolvenzen  1988           56\n",
      "2  de-sh  Kiel  wirtschaft_arbeit  Unternehmensinsolvenzen  1989           58\n",
      "3  de-sh  Kiel  wirtschaft_arbeit  Unternehmensinsolvenzen  1990           65\n",
      "4  de-sh  Kiel  wirtschaft_arbeit  Unternehmensinsolvenzen  1991           46\n"
     ]
    },
    {
     "data": {
      "text/plain": [
       "[Text(0, 0, '1987'),\n",
       " Text(0, 0, '1988'),\n",
       " Text(0, 0, '1989'),\n",
       " Text(0, 0, '1990'),\n",
       " Text(0, 0, '1991'),\n",
       " Text(0, 0, '1992'),\n",
       " Text(0, 0, '1993'),\n",
       " Text(0, 0, '1994'),\n",
       " Text(0, 0, '1995'),\n",
       " Text(0, 0, '1996'),\n",
       " Text(0, 0, '1997'),\n",
       " Text(0, 0, '1998'),\n",
       " Text(0, 0, '1999'),\n",
       " Text(0, 0, '2000'),\n",
       " Text(0, 0, '2001'),\n",
       " Text(0, 0, '2002'),\n",
       " Text(0, 0, '2004'),\n",
       " Text(0, 0, '2005'),\n",
       " Text(0, 0, '2006'),\n",
       " Text(0, 0, '2007'),\n",
       " Text(0, 0, '2008'),\n",
       " Text(0, 0, '2009'),\n",
       " Text(0, 0, '2010'),\n",
       " Text(0, 0, '2011'),\n",
       " Text(0, 0, '2012'),\n",
       " Text(0, 0, '2013'),\n",
       " Text(0, 0, '2014'),\n",
       " Text(0, 0, '2015'),\n",
       " Text(0, 0, '2016'),\n",
       " Text(0, 0, '2017'),\n",
       " Text(0, 0, '2018')]"
      ]
     },
     "execution_count": 2,
     "metadata": {},
     "output_type": "execute_result"
    },
    {
     "data": {
      "image/png": "[encoded data removed]",
      "text/plain": [
       "<Figure size 432x288 with 1 Axes>"
      ]
     },
     "metadata": {
      "needs_background": "light"
     },
     "output_type": "display_data"
    }
   ],
   "source": [
    "# Fetch the data\n",
    "csv_data = requests.get(CSV_URL).content\n",
    "\n",
    "# Create a dataframe\n",
    "df = pd.read_csv(io.StringIO(csv_data.decode('latin1')), sep=';')\n",
    "\n",
    "# Use a subplot\n",
    "fig, ax = plt.subplots()\n",
    "\n",
    "# Print the dataframe's head (five rows)\n",
    "print(df.head())\n",
    "\n",
    "# Drop not available data\n",
    "df_cleaned = df.dropna(how='all')\n",
    "\n",
    "# x = Jahr (Year) as uint16 / y = Insolvenzen (Bankruptcies)\n",
    "df_years = df_cleaned['Jahr'].astype(np.uint16)\n",
    "x = df_years.values\n",
    "y = df_cleaned['Insolvenzen'].values\n",
    "\n",
    "# Title and labels\n",
    "plt.title(\"Kiel - Bankruptcies\", size=\"x-large\")\n",
    "plt.ylabel(\"Quantity\", size=\"x-large\")\n",
    "plt.xlabel(\"Year\", size=\"x-large\")\n",
    "\n",
    "plt.plot(y, \"r*-\", markersize=6, linewidth=1, color='b')\n",
    "\n",
    "ax.set_xticks(range(len(x)))\n",
    "ax.set_xticklabels(x, rotation='vertical')\n"
   ]
  },
  {
   "cell_type": "code",
   "execution_count": null,
   "metadata": {},
   "outputs": [],
   "source": []
  }
 ],
 "metadata": {
  "file_extension": ".py",
  "kernelspec": {
   "display_name": "Python 3",
   "language": "python",
   "name": "python3"
  },
  "language_info": {
   "codemirror_mode": {
    "name": "ipython",
    "version": 3
   },
   "file_extension": ".py",
   "mimetype": "text/x-python",
   "name": "python",
   "nbconvert_exporter": "python",
   "pygments_lexer": "ipython3",
   "version": "3.8.0"
  },
  "mimetype": "text/x-python",
  "name": "python",
  "npconvert_exporter": "python",
  "pygments_lexer": "ipython3",
  "version": 3
 },
 "nbformat": 4,
 "nbformat_minor": 2
}
