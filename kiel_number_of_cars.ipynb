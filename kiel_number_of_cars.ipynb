{
 "cells": [
  {
   "cell_type": "code",
   "execution_count": 1,
   "metadata": {},
   "outputs": [
    {
     "ename": "ModuleNotFoundError",
     "evalue": "No module named 'requests'",
     "output_type": "error",
     "traceback": [
      "\u001b[0;31m---------------------------------------------------------------------------\u001b[0m",
      "\u001b[0;31mModuleNotFoundError\u001b[0m                       Traceback (most recent call last)",
      "\u001b[0;32m<ipython-input-1-06bfbf28e97d>\u001b[0m in \u001b[0;36m<module>\u001b[0;34m\u001b[0m\n\u001b[0;32m----> 1\u001b[0;31m \u001b[0;32mimport\u001b[0m \u001b[0mrequests\u001b[0m\u001b[0;34m\u001b[0m\u001b[0;34m\u001b[0m\u001b[0m\n\u001b[0m\u001b[1;32m      2\u001b[0m \u001b[0;32mimport\u001b[0m \u001b[0mpandas\u001b[0m \u001b[0;32mas\u001b[0m \u001b[0mpd\u001b[0m\u001b[0;34m\u001b[0m\u001b[0;34m\u001b[0m\u001b[0m\n\u001b[1;32m      3\u001b[0m \u001b[0;32mimport\u001b[0m \u001b[0mmatplotlib\u001b[0m\u001b[0;34m.\u001b[0m\u001b[0mpyplot\u001b[0m \u001b[0;32mas\u001b[0m \u001b[0mplt\u001b[0m\u001b[0;34m\u001b[0m\u001b[0;34m\u001b[0m\u001b[0m\n\u001b[1;32m      4\u001b[0m \u001b[0;32mfrom\u001b[0m \u001b[0mpprint\u001b[0m \u001b[0;32mimport\u001b[0m \u001b[0mpprint\u001b[0m\u001b[0;34m\u001b[0m\u001b[0;34m\u001b[0m\u001b[0m\n\u001b[1;32m      5\u001b[0m \u001b[0;34m\u001b[0m\u001b[0m\n",
      "\u001b[0;31mModuleNotFoundError\u001b[0m: No module named 'requests'"
     ]
    }
   ],
   "source": [
    "import requests\n",
    "import pandas as pd\n",
    "import matplotlib.pyplot as plt\n",
    "from pprint import pprint\n",
    "\n",
    "URL = 'https://ploenerseite.de/api/cars'\n",
    "\n",
    "### fetch data using requests ###\n",
    "\n",
    "# This part is not really necessary.\n",
    "# It's only here to show a different way to fetch json data.\n",
    "\n",
    "def fetchJsonData(url):\n",
    "    try:\n",
    "        response = requests.get(url)\n",
    "    except OSError:\n",
    "        print('No connection to the server!')\n",
    "        return None\n",
    "\n",
    "    # check if the request is successful\n",
    "    if response.status_code == 200:\n",
    "        print('Status 200, OK')\n",
    "        return response.json()\n",
    "    else:\n",
    "        print('JSON data request not successful!.')\n",
    "        return None\n",
    "\n",
    "json_data = fetchJsonData(URL)\n",
    "pprint(json_data)\n",
    "\n",
    "### fetch data using pandas ###\n",
    "\n",
    "# Fetch JSON data from a given url\n",
    "df = pd.read_json(URL, orient='columns')\n",
    "\n",
    "# View the first ten rows\n",
    "df.head(10)\n",
    "\n",
    "### plot the received data ###\n",
    "\n",
    "# create a subplot\n",
    "fig, ax = plt.subplots()\n",
    "\n",
    "# drop not available (na) data\n",
    "df_cleaned = df.dropna(how='all')\n",
    "\n",
    "x = df_cleaned['year'].values\n",
    "y = df_cleaned['cars'].values\n",
    "\n",
    "plt.title(\"Kiel - Number of Cars\", size=\"x-large\")\n",
    "plt.ylabel(\"\", size=\"x-large\")\n",
    "plt.xlabel(\"Year\", size=\"x-large\")\n",
    "\n",
    "plt.plot(y, \"r*-\", markersize=6, linewidth=1, color='r', label=\"Number of Cars\")\n",
    "\n",
    "plt.legend(loc=(0.4, 0.2))\n",
    "\n",
    "ax.set_xticks(range(len(x)))\n",
    "ax.set_xticklabels(x, rotation='vertical')\n",
    "\n",
    "plt.show()"
   ]
  },
  {
   "cell_type": "code",
   "execution_count": null,
   "metadata": {},
   "outputs": [],
   "source": []
  }
 ],
 "metadata": {
  "kernelspec": {
   "display_name": "Python 3",
   "language": "python",
   "name": "python3"
  },
  "language_info": {
   "codemirror_mode": {
    "name": "ipython",
    "version": 3
   },
   "file_extension": ".py",
   "mimetype": "text/x-python",
   "name": "python",
   "nbconvert_exporter": "python",
   "pygments_lexer": "ipython3",
   "version": "3.7.2"
  }
 },
 "nbformat": 4,
 "nbformat_minor": 2
}
